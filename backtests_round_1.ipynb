{
 "cells": [
  {
   "cell_type": "code",
   "execution_count": 2,
   "metadata": {},
   "outputs": [],
   "source": [
    "import pandas as pd\n",
    "import numpy as np\n",
    "import matplotlib.pyplot as plt\n",
    "from matplotlib.gridspec import GridSpec"
   ]
  },
  {
   "cell_type": "markdown",
   "metadata": {},
   "source": [
    "# Load Prices\n"
   ]
  },
  {
   "cell_type": "code",
   "execution_count": 5,
   "metadata": {},
   "outputs": [],
   "source": [
    "path = \"data/round_1\"\n",
    "\n",
    "\n",
    "def get_prices(round: int, day: int):\n",
    "\n",
    "    path = f\"data/round_{round}/prices_round_{round}_day_{day}.csv\"\n",
    "\n",
    "    return pd.read_csv(path, sep=\";\")\n",
    "\n",
    "\n",
    "def get_trades(round: int, day: int):\n",
    "\n",
    "    path = f\"data/round_{round}/trades_round_{round}_day_{day}.csv\"\n",
    "\n",
    "    return pd.read_csv(path, sep=\";\")"
   ]
  },
  {
   "cell_type": "code",
   "execution_count": 6,
   "metadata": {},
   "outputs": [
    {
     "data": {
      "text/html": [
       "<div>\n",
       "<style scoped>\n",
       "    .dataframe tbody tr th:only-of-type {\n",
       "        vertical-align: middle;\n",
       "    }\n",
       "\n",
       "    .dataframe tbody tr th {\n",
       "        vertical-align: top;\n",
       "    }\n",
       "\n",
       "    .dataframe thead th {\n",
       "        text-align: right;\n",
       "    }\n",
       "</style>\n",
       "<table border=\"1\" class=\"dataframe\">\n",
       "  <thead>\n",
       "    <tr style=\"text-align: right;\">\n",
       "      <th></th>\n",
       "      <th>day</th>\n",
       "      <th>timestamp</th>\n",
       "      <th>product</th>\n",
       "      <th>bid_price_1</th>\n",
       "      <th>bid_volume_1</th>\n",
       "      <th>bid_price_2</th>\n",
       "      <th>bid_volume_2</th>\n",
       "      <th>bid_price_3</th>\n",
       "      <th>bid_volume_3</th>\n",
       "      <th>ask_price_1</th>\n",
       "      <th>ask_volume_1</th>\n",
       "      <th>ask_price_2</th>\n",
       "      <th>ask_volume_2</th>\n",
       "      <th>ask_price_3</th>\n",
       "      <th>ask_volume_3</th>\n",
       "      <th>mid_price</th>\n",
       "      <th>profit_and_loss</th>\n",
       "    </tr>\n",
       "  </thead>\n",
       "  <tbody>\n",
       "    <tr>\n",
       "      <th>0</th>\n",
       "      <td>0</td>\n",
       "      <td>0</td>\n",
       "      <td>RAINFOREST_RESIN</td>\n",
       "      <td>9998</td>\n",
       "      <td>1</td>\n",
       "      <td>9995.0</td>\n",
       "      <td>30.0</td>\n",
       "      <td>NaN</td>\n",
       "      <td>NaN</td>\n",
       "      <td>10005</td>\n",
       "      <td>30</td>\n",
       "      <td>NaN</td>\n",
       "      <td>NaN</td>\n",
       "      <td>NaN</td>\n",
       "      <td>NaN</td>\n",
       "      <td>10001.5</td>\n",
       "      <td>0.0</td>\n",
       "    </tr>\n",
       "    <tr>\n",
       "      <th>1</th>\n",
       "      <td>0</td>\n",
       "      <td>0</td>\n",
       "      <td>KELP</td>\n",
       "      <td>2028</td>\n",
       "      <td>30</td>\n",
       "      <td>NaN</td>\n",
       "      <td>NaN</td>\n",
       "      <td>NaN</td>\n",
       "      <td>NaN</td>\n",
       "      <td>2032</td>\n",
       "      <td>30</td>\n",
       "      <td>NaN</td>\n",
       "      <td>NaN</td>\n",
       "      <td>NaN</td>\n",
       "      <td>NaN</td>\n",
       "      <td>2030.0</td>\n",
       "      <td>0.0</td>\n",
       "    </tr>\n",
       "  </tbody>\n",
       "</table>\n",
       "</div>"
      ],
      "text/plain": [
       "   day  timestamp           product  bid_price_1  bid_volume_1  bid_price_2  \\\n",
       "0    0          0  RAINFOREST_RESIN         9998             1       9995.0   \n",
       "1    0          0              KELP         2028            30          NaN   \n",
       "\n",
       "   bid_volume_2  bid_price_3  bid_volume_3  ask_price_1  ask_volume_1  \\\n",
       "0          30.0          NaN           NaN        10005            30   \n",
       "1           NaN          NaN           NaN         2032            30   \n",
       "\n",
       "   ask_price_2  ask_volume_2  ask_price_3  ask_volume_3  mid_price  \\\n",
       "0          NaN           NaN          NaN           NaN    10001.5   \n",
       "1          NaN           NaN          NaN           NaN     2030.0   \n",
       "\n",
       "   profit_and_loss  \n",
       "0              0.0  \n",
       "1              0.0  "
      ]
     },
     "execution_count": 6,
     "metadata": {},
     "output_type": "execute_result"
    }
   ],
   "source": [
    "prices = get_prices(1, 0)\n",
    "trades = get_trades(1, -1)\n",
    "\n",
    "prices.head(2)"
   ]
  },
  {
   "cell_type": "markdown",
   "metadata": {},
   "source": [
    "# Stoikov Model\n"
   ]
  },
  {
   "cell_type": "markdown",
   "metadata": {},
   "source": [
    "Parameters for **Reserve Price**\n",
    "\n",
    "$$\\text{Reserve Price} = s - q\\cdot \\gamma \\cdot\\sigma^2\\cdot (T-t)$$\n",
    "\n",
    "- $q$: how distant the trader's current inventory is from the target position? $q$ indicates the difference between current and desired inventory. In our case we want to be long/short based on trend.\n",
    "- $\\gamma$: inventory risk the MM is willing to take\n",
    "- $T-t$: time until the end of the trading session. T is usually normalized to 1, in our case t will be = timestamp / total number of ticks in a trading session.\n",
    "- $\\sigma$: market volatility. If the market volatility incresaes, the distance between the reservation price and market mid-price will also increase\n",
    "\n",
    "Units:\n",
    "\n",
    "- $\\sigma$: dollars per unit time $dt$\n",
    "- $\\delta$ is in dollars too\n",
    "- $k$ is mapping the distance to the fair price to a quantity without unit, so it is in $1/dollars$\n",
    "- $\\gamma$ is a risk aversion parameter. Difficult to choose, trials and errors can help.\n",
    "\n",
    "<p align='center'>Optimal Spread</p>\n",
    "\n",
    "$$\\delta^a+\\delta^b=\\gamma \\cdot \\sigma^2(T-t) + \\frac{2}{\\gamma}ln(1+\\frac{\\gamma}{k})$$\n",
    "\n",
    "Two of the factors are incorporated from the reservation price formula ($\\gamma $ and $(T-t)$) and a new factor is incorporated:\n",
    "\n",
    "- $k$ - Order book Liquidity/Density: look at ways to calculate it. If k is significant, we are assuming the order book is denser and we need to have more competitive spreads. If the order book is less competitive we can have wider spreads\n",
    "\n",
    "**Combining the Two**\n",
    "\n",
    "$$\\text{Ask/Bid} = \\text{Res Price} \\pm \\frac{\\text{Optimal Spread}}{2}$$\n",
    "\n",
    "### Estimating k\n",
    "\n",
    "$k$ parameter models order book liquidity, with larger values corresponding to higher trading intensity. For a given time interval $\\pi_n=t_n-t_{n-1}$, $k$ can be estimated as\n",
    "\n",
    "$$k_n^a=\\frac{\\lambda_n^a\\cdot\\lambda^a_{n-1}}{\\lambda_n^a-\\lambda^a_{n-1}}$$\n",
    "\n",
    "Where lambdas are the orderbook update arrival rates on the ask and bid sides, in the time interval $\\pi_n$. \"Note that this approach allows us to estimate the k parameters simply by coutning the orders arrivals at each time interval $\\pi_n$\" => **estimate $\\lambda_n^a$ as number of bid/asks in time $n$?**\n"
   ]
  },
  {
   "cell_type": "code",
   "execution_count": 8,
   "metadata": {},
   "outputs": [
    {
     "data": {
      "text/plain": [
       "-40.0"
      ]
     },
     "execution_count": 8,
     "metadata": {},
     "output_type": "execute_result"
    }
   ],
   "source": [
    "orders_t = 8\n",
    "orders_t_1 = 10\n",
    "\n",
    "(orders_t * orders_t_1) / (orders_t - orders_t_1)"
   ]
  },
  {
   "cell_type": "code",
   "execution_count": 9,
   "metadata": {},
   "outputs": [],
   "source": [
    "def stoikov_model_res_price(s, q, gamma, sigma, T, t):\n",
    "    return s - q * gamma * sigma**2 * (T - t)\n",
    "\n",
    "\n",
    "def stoikov_model_spread(gamma, sigma, T, t, k):\n",
    "    return gamma * sigma**2 * (T - t) + 2 / gamma * np.log(1 + gamma / k)"
   ]
  },
  {
   "cell_type": "code",
   "execution_count": null,
   "metadata": {},
   "outputs": [
    {
     "name": "stdout",
     "output_type": "stream",
     "text": [
      "5041.02\n",
      "3.9985254592359456\n",
      "\n",
      "current midprice is 5039.5, refprice is 5041.02\n",
      "bid: 5039.02, ask: 5043.02, spread: 4.00\n"
     ]
    }
   ],
   "source": [
    "# testing\n",
    "GAMMA = 0.01\n",
    "K = 0.5\n",
    "\n",
    "SIGMA = np.sqrt(3.8)\n",
    "T = 1\n",
    "t = 0\n",
    "S = 5039.5  # current midprice\n",
    "\n",
    "CURRENT_POS = -20\n",
    "TARGET_POS = 20\n",
    "Q = CURRENT_POS - TARGET_POS\n",
    "\n",
    "r = stoikov_model_res_price(S, Q, GAMMA, SIGMA, T, t)\n",
    "spread_sum = stoikov_model_spread(GAMMA, SIGMA, T, t, K)\n",
    "\n",
    "print(r)  # 98 makes sense since we want to\n",
    "print(spread_sum)\n",
    "\n",
    "\n",
    "def get_bid_ask(res_price, spread):\n",
    "    return res_price - spread / 2, res_price + spread / 2\n",
    "\n",
    "\n",
    "bid, ask = get_bid_ask(r, spread_sum)\n",
    "print(f\"\\ncurrent midprice is {S}, refprice is {r}\")\n",
    "print(f\"bid: {bid:.2f}, ask: {ask:.2f}, spread: {ask - bid:.2f}\")"
   ]
  },
  {
   "cell_type": "markdown",
   "metadata": {},
   "source": [
    "## Fixing Imbalance\n"
   ]
  },
  {
   "cell_type": "code",
   "execution_count": 11,
   "metadata": {},
   "outputs": [
    {
     "data": {
      "text/plain": [
       "array([[ 1.,  2.,  3.],\n",
       "       [ 1., nan,  3.],\n",
       "       [nan,  1.,  2.]])"
      ]
     },
     "execution_count": 11,
     "metadata": {},
     "output_type": "execute_result"
    }
   ],
   "source": [
    "matrix = np.array([[1, 2, 3], [1, np.nan, 3], [np.nan, 1, 2]])\n",
    "matrix"
   ]
  },
  {
   "cell_type": "code",
   "execution_count": 12,
   "metadata": {},
   "outputs": [
    {
     "data": {
      "text/plain": [
       "array([[ 1.,  1.,  1.,  1.],\n",
       "       [nan,  2.,  2., nan],\n",
       "       [nan,  3.,  3., nan]])"
      ]
     },
     "execution_count": 12,
     "metadata": {},
     "output_type": "execute_result"
    }
   ],
   "source": [
    "bid1 = np.array([1, np.nan, np.nan])\n",
    "volb1 = np.array([1, np.nan, np.nan])\n",
    "ask1 = np.array([1, 2, 3])\n",
    "vola1 = np.array([1, 2, 3])\n",
    "\n",
    "np.vstack([bid1, vola1, ask1, volb1]).T"
   ]
  },
  {
   "cell_type": "code",
   "execution_count": 13,
   "metadata": {},
   "outputs": [
    {
     "data": {
      "text/plain": [
       "array([[False],\n",
       "       [ True],\n",
       "       [ True]])"
      ]
     },
     "execution_count": 13,
     "metadata": {},
     "output_type": "execute_result"
    }
   ],
   "source": [
    "np.any(np.isnan(matrix), axis=1).reshape(-1, 1)"
   ]
  },
  {
   "cell_type": "code",
   "execution_count": 14,
   "metadata": {},
   "outputs": [],
   "source": [
    "prices.iloc[50]\n",
    "\n",
    "\n",
    "def vw_mid_price(data):\n",
    "    # S = Pa * Vb / (Va + Vb) + Pb * Va / (Va + Vb)\n",
    "    bid_amt = data[\"bid_size_1\"] + data[\"bid_size_2\"] + data[\"bid_size_3\"]\n",
    "    ask_amt = data[\"ask_size_1\"] + data[\"ask_size_2\"] + data[\"ask_size_3\"]\n",
    "    tot_amt = bid_amt + ask_amt\n",
    "\n",
    "    pa1 = data[\"ask_price_1\"]\n",
    "    pa2 = data[\"ask_price_2\"]\n",
    "    pa3 = data[\"ask_price_3\"]\n",
    "    pb1 = data[\"bid_price_1\"]\n",
    "    pb2 = data[\"bid_price_2\"]\n",
    "    pb3 = data[\"bid_price_3\"]\n",
    "    sa1 = data[\"ask_size_1\"]\n",
    "    sa2 = data[\"ask_size_2\"]\n",
    "    sa3 = data[\"ask_size_3\"]\n",
    "    sb1 = data[\"bid_size_1\"]\n",
    "    sb2 = data[\"bid_size_2\"]\n",
    "    sb3 = data[\"bid_size_3\"]\n",
    "\n",
    "    m1 = (pa1 * sb1) / (sa1 + sb1) + (pb1 * sa1) / (sa1 + sb1)\n",
    "    m2 = (pa2 * sb2) / (sa2 + sb2) + (pb2 * sa2) / (sa2 + sb2)\n",
    "    m3 = (pa3 * sb3) / (sa3 + sb3) + (pb3 * sa3) / (sa3 + sb3)\n",
    "    print(f\"m1: {m1}, m2: {m2}, m3: {m3}\")\n",
    "    mids = np.array([m1, m2, m3])\n",
    "    mids[np.isnan(mids)] = 0\n",
    "    vols = np.array([sa1 + sb1, sa2 + sb2, sa3 + sb3])\n",
    "    return sum(mids * vols / sum(vols))\n",
    "    return sum([m1, m2, m3]) / 3\n",
    "\n",
    "    # S = ( Pa1 * Vb1 + Pa2 * Vb2 ... ) / total volum\n",
    "    s = (pa1 * sb1 + pa2 * sb2 + pa3 * sb3) / tot_amt + (\n",
    "        pb1 * sa1 + pb2 * sa2 + pb3 * sa3\n",
    "    ) / tot_amt\n",
    "    return s\n",
    "\n",
    "\n",
    "def vw_mid_price_vectorized(data):\n",
    "    bid_sizes = np.abs(np.array([data[f\"bid_volume_{i+1}\"] for i in range(3)]))\n",
    "    ask_sizes = np.abs(np.array([data[f\"ask_volume_{i+1}\"] for i in range(3)]))\n",
    "    bid_prices = np.abs(np.array([data[f\"bid_price_{i+1}\"] for i in range(3)]))\n",
    "    ask_prices = np.abs(np.array([data[f\"ask_price_{i+1}\"] for i in range(3)]))\n",
    "\n",
    "    stacked = np.vstack([bid_sizes, ask_sizes, bid_prices, ask_prices]).T\n",
    "    mask = ~np.any(np.isnan(stacked), axis=1)\n",
    "\n",
    "    print(mask)\n",
    "\n",
    "    mids = (ask_prices[mask] * bid_sizes[mask]) / (\n",
    "        ask_sizes[mask] + bid_sizes[mask]\n",
    "    ) + (bid_prices[mask] * ask_sizes[mask]) / (ask_sizes[mask] + bid_sizes[mask])\n",
    "    # mids = np.nan_to_num(mids)\n",
    "    vols = ask_sizes[mask] + bid_sizes[mask]\n",
    "\n",
    "    print(f\"vols: \\n{ask_sizes[mask]}, \\n{bid_sizes[mask]}\")\n",
    "    print(f\"data: \\n{stacked}\")\n",
    "\n",
    "    print(mids, vols)\n",
    "\n",
    "    s = np.sum(mids * vols) / np.sum(vols)\n",
    "\n",
    "    return s"
   ]
  },
  {
   "cell_type": "code",
   "execution_count": 15,
   "metadata": {},
   "outputs": [
    {
     "name": "stdout",
     "output_type": "stream",
     "text": [
      "[ True False False]\n",
      "vols: \n",
      "[22.], \n",
      "[7.]\n",
      "data: \n",
      "[[   7.   22. 5036. 5042.]\n",
      " [  22.   nan 5035.   nan]\n",
      " [  nan   nan   nan   nan]]\n",
      "[5037.44827586] [29.]\n"
     ]
    },
    {
     "data": {
      "text/plain": [
       "5037.448275862069"
      ]
     },
     "execution_count": 15,
     "metadata": {},
     "output_type": "execute_result"
    }
   ],
   "source": [
    "data = {\n",
    "    \"timestamp\": 0,\n",
    "    \"ask_volume_1\": 22,\n",
    "    \"ask_volume_2\": np.nan,\n",
    "    \"ask_volume_3\": np.nan,\n",
    "    \"bid_volume_1\": 7,\n",
    "    \"bid_volume_2\": 22,\n",
    "    \"bid_volume_3\": np.nan,\n",
    "    \"ask_price_1\": 5042,\n",
    "    \"ask_price_2\": np.nan,\n",
    "    \"ask_price_3\": np.nan,\n",
    "    \"bid_price_1\": 5036,\n",
    "    \"bid_price_2\": 5035,\n",
    "    \"bid_price_3\": np.nan,\n",
    "    \"mid_price\": 5039.5,\n",
    "    \"spread\": 0.0013890266891556703,\n",
    "}\n",
    "\n",
    "mid = vw_mid_price_vectorized(data)\n",
    "mid"
   ]
  },
  {
   "cell_type": "code",
   "execution_count": 16,
   "metadata": {},
   "outputs": [
    {
     "name": "stdout",
     "output_type": "stream",
     "text": [
      "vw_bid: 5035.241379310345, vw_ask: 5042.0\n"
     ]
    },
    {
     "data": {
      "text/plain": [
       "5039.084516565246"
      ]
     },
     "execution_count": 16,
     "metadata": {},
     "output_type": "execute_result"
    }
   ],
   "source": [
    "def old_mid_price_adj(data):\n",
    "    data = {i: data[i] if not np.isnan(data[i]) else 0 for i in data}\n",
    "\n",
    "    bid_amt = data[\"bid_volume_1\"] + data[\"bid_volume_2\"] + data[\"bid_volume_3\"]\n",
    "    ask_amt = data[\"ask_volume_1\"] + data[\"ask_volume_2\"] + data[\"ask_volume_3\"]\n",
    "    tot_amt = (\n",
    "        data[\"bid_volume_1\"]\n",
    "        + data[\"bid_volume_2\"]\n",
    "        + data[\"bid_volume_3\"]\n",
    "        + data[\"ask_volume_1\"]\n",
    "        + data[\"ask_volume_2\"]\n",
    "        + data[\"ask_volume_3\"]\n",
    "    )\n",
    "\n",
    "    vw_bid = (\n",
    "        data[\"bid_price_1\"] * data[\"bid_volume_1\"]\n",
    "        + data[\"bid_price_2\"] * data[\"bid_volume_2\"]\n",
    "        + data[\"bid_price_3\"] * data[\"bid_volume_3\"]\n",
    "    ) / bid_amt\n",
    "    vw_ask = (\n",
    "        data[\"ask_price_1\"] * data[\"ask_volume_1\"]\n",
    "        + data[\"ask_price_2\"] * data[\"ask_volume_2\"]\n",
    "        + data[\"ask_price_3\"] * data[\"ask_volume_3\"]\n",
    "    ) / ask_amt\n",
    "\n",
    "    s = vw_ask * bid_amt / tot_amt + vw_bid * ask_amt / tot_amt\n",
    "\n",
    "    print(f\"vw_bid: {vw_bid}, vw_ask: {vw_ask}\")\n",
    "\n",
    "    return s\n",
    "\n",
    "\n",
    "mid_old = old_mid_price_adj(data)\n",
    "mid_old"
   ]
  },
  {
   "cell_type": "code",
   "execution_count": 17,
   "metadata": {},
   "outputs": [],
   "source": [
    "import pandas as pd\n",
    "import matplotlib.pyplot as plt\n",
    "import seaborn as sns\n",
    "\n",
    "\n",
    "def plot_orderbook(data, mid, mid_old):\n",
    "    # your original data\n",
    "    ask_price = [\n",
    "        data[f\"ask_price_{i}\"] if not np.isnan(data[\"ask_price_1\"]) else 0\n",
    "        for i in range(1, 4)\n",
    "    ]\n",
    "    ask_qty = [\n",
    "        data[f\"ask_volume_{i}\"] if not np.isnan(data[\"ask_volume_1\"]) else 0\n",
    "        for i in range(1, 4)\n",
    "    ]\n",
    "    bid_price = [\n",
    "        data[f\"bid_price_{i}\"] if not np.isnan(data[\"bid_price_1\"]) else 0\n",
    "        for i in range(1, 4)\n",
    "    ]\n",
    "    bid_qty = [\n",
    "        data[f\"bid_volume_{i}\"] if not np.isnan(data[\"bid_volume_1\"]) else 0\n",
    "        for i in range(1, 4)\n",
    "    ]\n",
    "\n",
    "    ask_df = pd.DataFrame({\"price\": ask_price, \"quantity\": ask_qty})\n",
    "    bid_df = pd.DataFrame({\"price\": bid_price, \"quantity\": bid_qty})\n",
    "\n",
    "    fig, ax = plt.subplots()\n",
    "    ax.set_title(f\"Order Book Depth Chart\")\n",
    "    sns.ecdfplot(\n",
    "        x=\"price\", weights=\"quantity\", stat=\"count\", data=ask_df, ax=ax, color=\"red\"\n",
    "    )\n",
    "    sns.ecdfplot(\n",
    "        x=\"price\",\n",
    "        weights=\"quantity\",\n",
    "        stat=\"count\",\n",
    "        complementary=True,\n",
    "        data=bid_df,\n",
    "        ax=ax,\n",
    "        color=\"green\",\n",
    "    )\n",
    "    # complementary=True allows reflects that lower bids are \"better\"\n",
    "    ax.set_xlabel(\"Price\")\n",
    "    ax.set_ylabel(\"Quantity\")\n",
    "\n",
    "    ax.vlines(mid, 0, 30, color=\"blue\", label=\"Mid Price\")\n",
    "    ax.vlines(mid_old, 0, 30, color=\"black\", label=\"Mid Price (old)\")\n",
    "\n",
    "    ax.legend()"
   ]
  },
  {
   "cell_type": "code",
   "execution_count": 18,
   "metadata": {},
   "outputs": [
    {
     "data": {
      "image/png": "[encoded data removed]",
      "text/plain": [
       "<Figure size 640x480 with 1 Axes>"
      ]
     },
     "metadata": {},
     "output_type": "display_data"
    }
   ],
   "source": [
    "plot_orderbook(data, mid, mid_old)"
   ]
  },
  {
   "cell_type": "markdown",
   "metadata": {},
   "source": [
    "# Amethysts\n"
   ]
  },
  {
   "cell_type": "code",
   "execution_count": 19,
   "metadata": {},
   "outputs": [
    {
     "data": {
      "text/html": [
       "<div>\n",
       "<style scoped>\n",
       "    .dataframe tbody tr th:only-of-type {\n",
       "        vertical-align: middle;\n",
       "    }\n",
       "\n",
       "    .dataframe tbody tr th {\n",
       "        vertical-align: top;\n",
       "    }\n",
       "\n",
       "    .dataframe thead th {\n",
       "        text-align: right;\n",
       "    }\n",
       "</style>\n",
       "<table border=\"1\" class=\"dataframe\">\n",
       "  <thead>\n",
       "    <tr style=\"text-align: right;\">\n",
       "      <th></th>\n",
       "      <th>day</th>\n",
       "      <th>timestamp</th>\n",
       "      <th>product</th>\n",
       "      <th>bid_price_1</th>\n",
       "      <th>bid_volume_1</th>\n",
       "      <th>bid_price_2</th>\n",
       "      <th>bid_volume_2</th>\n",
       "      <th>bid_price_3</th>\n",
       "      <th>bid_volume_3</th>\n",
       "      <th>ask_price_1</th>\n",
       "      <th>ask_volume_1</th>\n",
       "      <th>ask_price_2</th>\n",
       "      <th>ask_volume_2</th>\n",
       "      <th>ask_price_3</th>\n",
       "      <th>ask_volume_3</th>\n",
       "      <th>mid_price</th>\n",
       "      <th>profit_and_loss</th>\n",
       "    </tr>\n",
       "  </thead>\n",
       "  <tbody>\n",
       "  </tbody>\n",
       "</table>\n",
       "</div>"
      ],
      "text/plain": [
       "Empty DataFrame\n",
       "Columns: [day, timestamp, product, bid_price_1, bid_volume_1, bid_price_2, bid_volume_2, bid_price_3, bid_volume_3, ask_price_1, ask_volume_1, ask_price_2, ask_volume_2, ask_price_3, ask_volume_3, mid_price, profit_and_loss]\n",
       "Index: []"
      ]
     },
     "execution_count": 19,
     "metadata": {},
     "output_type": "execute_result"
    }
   ],
   "source": [
    "amethysts = prices[prices[\"product\"] == \"AMETHYSTS\"].sort_values(\"timestamp\")\n",
    "\n",
    "amethysts.head()"
   ]
  },
  {
   "cell_type": "code",
   "execution_count": 20,
   "metadata": {},
   "outputs": [
    {
     "data": {
      "text/plain": [
       "nan"
      ]
     },
     "execution_count": 20,
     "metadata": {},
     "output_type": "execute_result"
    }
   ],
   "source": [
    "amethysts[\"mid_price\"].rolling(50).var().mean()"
   ]
  },
  {
   "cell_type": "code",
   "execution_count": 21,
   "metadata": {},
   "outputs": [
    {
     "name": "stdout",
     "output_type": "stream",
     "text": [
      "10001.12\n",
      "7.680814384345995\n",
      "\n",
      "current midprice is 10000, refprice is 10001.12\n",
      "bid: 9997.28, ask: 10004.96, spread: 7.68\n"
     ]
    }
   ],
   "source": [
    "# testing\n",
    "GAMMA = 0.025\n",
    "K = 0.25\n",
    "\n",
    "SIGMA = np.sqrt(2.24)\n",
    "T = 1\n",
    "t = 0\n",
    "S = 10_000  # current midprice\n",
    "\n",
    "CURRENT_POS = -20\n",
    "TARGET_POS = 0\n",
    "Q = CURRENT_POS - TARGET_POS\n",
    "\n",
    "r = stoikov_model_res_price(S, Q, GAMMA, SIGMA, T, t)\n",
    "spread_sum = stoikov_model_spread(GAMMA, SIGMA, T, t, K)\n",
    "\n",
    "print(r)  # 98 makes sense since we want to\n",
    "print(spread_sum)\n",
    "\n",
    "\n",
    "def get_bid_ask(res_price, spread):\n",
    "    return res_price - spread / 2, res_price + spread / 2\n",
    "\n",
    "\n",
    "bid, ask = get_bid_ask(r, spread_sum)\n",
    "print(f\"\\ncurrent midprice is {S}, refprice is {r}\")\n",
    "print(f\"bid: {bid:.2f}, ask: {ask:.2f}, spread: {ask - bid:.2f}\")"
   ]
  }
 ],
 "metadata": {
  "kernelspec": {
   "display_name": "Python 3",
   "language": "python",
   "name": "python3"
  },
  "language_info": {
   "codemirror_mode": {
    "name": "ipython",
    "version": 3
   },
   "file_extension": ".py",
   "mimetype": "text/x-python",
   "name": "python",
   "nbconvert_exporter": "python",
   "pygments_lexer": "ipython3",
   "version": "3.11.10"
  }
 },
 "nbformat": 4,
 "nbformat_minor": 2
}
